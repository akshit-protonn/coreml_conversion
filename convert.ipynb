{
 "cells": [
  {
   "cell_type": "code",
   "execution_count": 1,
   "id": "0bdb24ef-a798-4f01-8214-5054b5e323f2",
   "metadata": {},
   "outputs": [],
   "source": [
    "import coremltools as ct\n",
    "import numpy as np"
   ]
  },
  {
   "cell_type": "code",
   "execution_count": 3,
   "id": "2b5927b7-5ff0-4494-8b73-be8b7284aec6",
   "metadata": {},
   "outputs": [],
   "source": [
    "seg_model = ct.models.MLModel(\"DeeplabV3.mlmodel\")"
   ]
  },
  {
   "cell_type": "code",
   "execution_count": 19,
   "id": "09fe11a7-56db-43d6-81ad-66e716a00745",
   "metadata": {},
   "outputs": [],
   "source": [
    "image_dim = 257\n",
    "x = 255.*np.random.rand(1, image_dim, image_dim, 3)\n",
    "preds=seg_model.predict({'ImageTensor':x}, useCPUOnly=True)\n",
    "preds = preds['SemanticPredictions']"
   ]
  },
  {
   "cell_type": "code",
   "execution_count": 16,
   "id": "21efcbc5-881f-4701-b25b-9a359039370f",
   "metadata": {},
   "outputs": [
    {
     "data": {
      "text/plain": [
       "0.0"
      ]
     },
     "execution_count": 16,
     "metadata": {},
     "output_type": "execute_result"
    }
   ],
   "source": [
    "np.sum(preds)"
   ]
  },
  {
   "cell_type": "code",
   "execution_count": 21,
   "id": "bfaf7558-cf05-4261-8ee9-bdf939ed7cab",
   "metadata": {},
   "outputs": [],
   "source": [
    "import cv2 as cv"
   ]
  },
  {
   "cell_type": "code",
   "execution_count": 23,
   "id": "817fa3db-f91d-473c-b7ad-f71593fd0536",
   "metadata": {},
   "outputs": [],
   "source": [
    "im=cv.imread('./mkbhd_potrait.png')"
   ]
  },
  {
   "cell_type": "code",
   "execution_count": 36,
   "id": "38d14d09-400c-4dea-89ba-fd42f190385a",
   "metadata": {},
   "outputs": [],
   "source": [
    "def get_border_dims(img):\n",
    "    h, w, c = img.shape\n",
    "    dim = max(w,h)\n",
    "    bl = (dim-w)//2\n",
    "    br = dim-(w+bl)\n",
    "    bt = (dim-h)//2\n",
    "    bb = dim-(h+bt)\n",
    "    return bt, bb, bl, br\n",
    "\n",
    "def padded_resize(img):\n",
    "    bt, bb, bl, br = get_border_dims(img)\n",
    "    padded_img = cv.copyMakeBorder(img, bt, bb, bl, br, cv.BORDER_CONSTANT)\n",
    "    return padded_img\n",
    "\n",
    "def adapt_to_model_input(img):\n",
    "    MODEL_IN_IMAGE_SIZE = image_dim # batch_size, w, h, channels\n",
    "    h, w, c = img.shape\n",
    "    resize_ratio = 1.0 * MODEL_IN_IMAGE_SIZE / max(w, h)\n",
    "    target_size = (int(resize_ratio * w), int(resize_ratio * h))\n",
    "    resized_image = cv.resize(img, target_size)\n",
    "    resized_image = cv.cvtColor(resized_image, cv.COLOR_BGR2RGB)\n",
    "    padded_im = padded_resize(resized_image)\n",
    "    # im_normed = padded_im.astype(np.uint8)#(padded_im/255.).astype(np.float32)\n",
    "    batched_im = np.expand_dims(padded_im, 0)\n",
    "    return batched_im.astype(np.float32)\n",
    "model_in_img = adapt_to_model_input(im)"
   ]
  },
  {
   "cell_type": "code",
   "execution_count": 31,
   "id": "0a22219b-fc23-4294-8c86-7b46be85eba1",
   "metadata": {},
   "outputs": [],
   "source": [
    "import matplotlib.pyplot as plt\n",
    "plt.imshow(model_in_img.squeeze())"
   ]
  },
  {
   "cell_type": "code",
   "execution_count": 50,
   "id": "92ed517b-9442-42bb-b651-902b54da6d43",
   "metadata": {},
   "outputs": [],
   "source": [
    "preds=seg_model.predict({'ImageTensor':model_in_img}, useCPUOnly=True)\n",
    "preds = preds['SemanticPredictions'].astype(np.int32).squeeze()"
   ]
  },
  {
   "cell_type": "code",
   "execution_count": 48,
   "id": "14641238-4656-495a-a432-77f557ecac19",
   "metadata": {},
   "outputs": [
    {
     "data": {
      "text/plain": [
       "(array([5.7605e+04, 0.0000e+00, 0.0000e+00, 0.0000e+00, 0.0000e+00,\n",
       "        0.0000e+00, 0.0000e+00, 8.4420e+03, 0.0000e+00, 2.0000e+00]),\n",
       " array([ 0.,  2.,  4.,  6.,  8., 10., 12., 14., 16., 18., 20.]),\n",
       " <BarContainer object of 10 artists>)"
      ]
     },
     "execution_count": 48,
     "metadata": {},
     "output_type": "execute_result"
    },
    {
     "data": {
      "image/png": "[encoded data removed]",
      "text/plain": [
       "<Figure size 432x288 with 1 Axes>"
      ]
     },
     "metadata": {
      "needs_background": "light"
     },
     "output_type": "display_data"
    }
   ],
   "source": [
    "plt.hist(preds.astype(np.int32).flatten())"
   ]
  },
  {
   "cell_type": "code",
   "execution_count": 51,
   "id": "73ad1b2c-12c4-4735-b412-053d9a48d6aa",
   "metadata": {},
   "outputs": [
    {
     "data": {
      "text/plain": [
       "<matplotlib.image.AxesImage at 0x7f83c26ee310>"
      ]
     },
     "execution_count": 51,
     "metadata": {},
     "output_type": "execute_result"
    },
    {
     "data": {
      "image/png": "[encoded data removed]",
      "text/plain": [
       "<Figure size 432x288 with 1 Axes>"
      ]
     },
     "metadata": {
      "needs_background": "light"
     },
     "output_type": "display_data"
    }
   ],
   "source": [
    "plt.imshow(preds)"
   ]
  }
 ],
 "metadata": {
  "kernelspec": {
   "display_name": "Python 3",
   "language": "python",
   "name": "python3"
  },
  "language_info": {
   "codemirror_mode": {
    "name": "ipython",
    "version": 3
   },
   "file_extension": ".py",
   "mimetype": "text/x-python",
   "name": "python",
   "nbconvert_exporter": "python",
   "pygments_lexer": "ipython3",
   "version": "3.9.4"
  }
 },
 "nbformat": 4,
 "nbformat_minor": 5
}
